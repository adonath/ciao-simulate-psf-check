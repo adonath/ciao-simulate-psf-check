{
 "cells": [
  {
   "cell_type": "markdown",
   "id": "49bedd44",
   "metadata": {},
   "source": [
    "# Comparison Pileup vs. No Pileup Spectra"
   ]
  },
  {
   "cell_type": "code",
   "execution_count": 1,
   "id": "6771dcd2",
   "metadata": {},
   "outputs": [],
   "source": [
    "from gpxray.chandra.io import read_spectrum_chart\n",
    "import matplotlib.pyplot as plt\n",
    "from pathlib import Path\n",
    "from gammapy.maps import RegionNDMap\n",
    "from astropy.io import fits\n",
    "from astropy.table import Table"
   ]
  },
  {
   "cell_type": "code",
   "execution_count": 2,
   "id": "6aa4cafd",
   "metadata": {},
   "outputs": [],
   "source": [
    "BLURS = [0.07, 0.115, 0.16, 0.205, 0.25]\n",
    "BLUR = BLURS[2]"
   ]
  },
  {
   "cell_type": "code",
   "execution_count": 3,
   "id": "dfdd2396",
   "metadata": {},
   "outputs": [],
   "source": [
    "PATH = Path(f\"../psf-marx-no-pileup/19692/spectrum/pks-0637-marx-no-pileup-blur-{BLUR}\")\n",
    "PATH_PILEUP = Path(f\"../psf-marx-pileup/19692/spectrum/pks-0637-marx-pileup-blur-{BLUR}\")"
   ]
  },
  {
   "cell_type": "code",
   "execution_count": 4,
   "id": "8ac0abdc",
   "metadata": {},
   "outputs": [],
   "source": [
    "spec_ref = read_spectrum_chart(\"../misc/source_flux_chart.dat\")\n",
    "spec_ref_piled_up = read_spectrum_chart(\"../misc/source_flux_chartv2.dat\")"
   ]
  },
  {
   "cell_type": "code",
   "execution_count": 5,
   "id": "85f48fed",
   "metadata": {},
   "outputs": [],
   "source": [
    "filename = PATH / f\"source-flux-chart-pks-0637-marx-no-pileup-blur-{BLUR}.dat\"\n",
    "\n",
    "spec = read_spectrum_chart(filename)\n",
    "\n",
    "filename = PATH_PILEUP / f\"source-flux-chart-pks-0637-marx-pileup-blur-{BLUR}.dat\"\n",
    "\n",
    "spec_piled_up = read_spectrum_chart(filename)"
   ]
  },
  {
   "cell_type": "code",
   "execution_count": 6,
   "id": "29b91802",
   "metadata": {},
   "outputs": [
    {
     "data": {
      "image/png": "[encoded data removed]",
      "text/plain": [
       "<Figure size 640x480 with 1 Axes>"
      ]
     },
     "metadata": {},
     "output_type": "display_data"
    }
   ],
   "source": [
    "spec_ref.plot(ls=\"-\", label=\"Ref. no pileup\")\n",
    "spec_ref_piled_up.plot(ls=\"-\", label=\"Ref. Pileup\")\n",
    "spec.plot(ls=\"-\", label=\"No pileup\");\n",
    "spec_piled_up.plot(label=\"Pileup\");\n",
    "plt.legend();"
   ]
  },
  {
   "cell_type": "code",
   "execution_count": 7,
   "id": "d702a0b1",
   "metadata": {},
   "outputs": [
    {
     "name": "stdout",
     "output_type": "stream",
     "text": [
      "name: (xsphabs.absorption * powlaw1d.pwl)\n",
      "type: binaryopmodel\n",
      "operator: '*'\n",
      "lhs:\n",
      "    name: xsphabs.absorption\n",
      "    type: xsphabs\n",
      "    parameters:\n",
      "    -   name: nH\n",
      "        value: 3.1403918689282047e-09\n",
      "        min: 0.0\n",
      "        max: 1000000.0\n",
      "        frozen: false\n",
      "        unit: 10^22 atoms / cm^2\n",
      "rhs:\n",
      "    name: powlaw1d.pwl\n",
      "    type: powlaw1d\n",
      "    parameters:\n",
      "    -   name: gamma\n",
      "        value: 1.327024351141532\n",
      "        min: -10.0\n",
      "        max: 10.0\n",
      "        frozen: false\n",
      "        unit: ''\n",
      "    -   name: ref\n",
      "        value: 1.0\n",
      "        min: -3.4028234663852886e+38\n",
      "        max: 3.4028234663852886e+38\n",
      "        frozen: true\n",
      "        unit: ''\n",
      "    -   name: ampl\n",
      "        value: 0.0010017064092351698\n",
      "        min: 9.472939455394682e-07\n",
      "        max: 0.9472939455394682\n",
      "        frozen: false\n",
      "        unit: ''\n",
      "\n"
     ]
    }
   ],
   "source": [
    "filename_model = PATH / f\"spectral-fit-model-pks-0637-marx-no-pileup-blur-{BLUR}.yaml\"\n",
    "\n",
    "with filename_model.open(\"r\") as f:\n",
    "    print(f.read())"
   ]
  },
  {
   "cell_type": "code",
   "execution_count": 8,
   "id": "fe84169c",
   "metadata": {},
   "outputs": [
    {
     "name": "stdout",
     "output_type": "stream",
     "text": [
      "name: (xsphabs.absorption * powlaw1d.pwl)\n",
      "type: binaryopmodel\n",
      "operator: '*'\n",
      "lhs:\n",
      "    name: xsphabs.absorption\n",
      "    type: xsphabs\n",
      "    parameters:\n",
      "    -   name: nH\n",
      "        value: 4.1612454679902e-07\n",
      "        min: 0.0\n",
      "        max: 1000000.0\n",
      "        frozen: false\n",
      "        unit: 10^22 atoms / cm^2\n",
      "rhs:\n",
      "    name: powlaw1d.pwl\n",
      "    type: powlaw1d\n",
      "    parameters:\n",
      "    -   name: gamma\n",
      "        value: 1.4986699538964743\n",
      "        min: -10.0\n",
      "        max: 10.0\n",
      "        frozen: false\n",
      "        unit: ''\n",
      "    -   name: ref\n",
      "        value: 1.0\n",
      "        min: -3.4028234663852886e+38\n",
      "        max: 3.4028234663852886e+38\n",
      "        frozen: true\n",
      "        unit: ''\n",
      "    -   name: ampl\n",
      "        value: 0.013242804818472306\n",
      "        min: 9.472939455394682e-07\n",
      "        max: 0.9472939455394682\n",
      "        frozen: false\n",
      "        unit: ''\n",
      "\n"
     ]
    }
   ],
   "source": [
    "filename_model = PATH_PILEUP / f\"spectral-fit-model-pks-0637-marx-pileup-blur-{BLUR}.yaml\"\n",
    "\n",
    "with filename_model.open(\"r\") as f:\n",
    "    print(f.read())"
   ]
  },
  {
   "cell_type": "code",
   "execution_count": null,
   "id": "05236d24",
   "metadata": {},
   "outputs": [],
   "source": []
  }
 ],
 "metadata": {
  "kernelspec": {
   "display_name": "Python 3 (ipykernel)",
   "language": "python",
   "name": "python3"
  },
  "language_info": {
   "codemirror_mode": {
    "name": "ipython",
    "version": 3
   },
   "file_extension": ".py",
   "mimetype": "text/x-python",
   "name": "python",
   "nbconvert_exporter": "python",
   "pygments_lexer": "ipython3",
   "version": "3.9.13"
  }
 },
 "nbformat": 4,
 "nbformat_minor": 5
}

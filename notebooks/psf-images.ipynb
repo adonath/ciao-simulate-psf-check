{
 "cells": [
  {
   "cell_type": "code",
   "execution_count": 1,
   "id": "01203630",
   "metadata": {},
   "outputs": [],
   "source": [
    "from gammapy.maps import Map\n",
    "from pathlib import Path"
   ]
  },
  {
   "cell_type": "code",
   "execution_count": 4,
   "id": "587f6039",
   "metadata": {},
   "outputs": [],
   "source": [
    "PATH_BASE = \"../\""
   ]
  },
  {
   "cell_type": "code",
   "execution_count": null,
   "id": "cf85ae23",
   "metadata": {},
   "outputs": [],
   "source": []
  }
 ],
 "metadata": {
  "kernelspec": {
   "display_name": "gpxray-dev",
   "language": "python",
   "name": "python3"
  },
  "language_info": {
   "codemirror_mode": {
    "name": "ipython",
    "version": 3
   },
   "file_extension": ".py",
   "mimetype": "text/x-python",
   "name": "python",
   "nbconvert_exporter": "python",
   "pygments_lexer": "ipython3",
   "version": "3.9.13 | packaged by conda-forge | (main, May 27 2022, 17:01:00) \n[Clang 13.0.1 ]"
  },
  "vscode": {
   "interpreter": {
    "hash": "838b985d1d4b1fd1dfa50ffe51512741ae645f84353155dc78baf308a5c0d84b"
   }
  }
 },
 "nbformat": 4,
 "nbformat_minor": 5
}
